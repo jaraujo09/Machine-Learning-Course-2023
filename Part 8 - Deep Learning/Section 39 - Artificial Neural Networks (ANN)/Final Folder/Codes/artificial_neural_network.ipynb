{
  "cells": [
    {
      "cell_type": "markdown",
      "metadata": {
        "colab_type": "text",
        "id": "3cbb7fRy-eyr"
      },
      "source": [
        "# Artificial Neural Network"
      ]
    },
    {
      "cell_type": "markdown",
      "metadata": {
        "colab_type": "text",
        "id": "8sNDnxE2-pwE"
      },
      "source": [
        "### Importing the libraries"
      ]
    },
    {
      "cell_type": "code",
      "execution_count": 16,
      "metadata": {
        "colab": {},
        "colab_type": "code",
        "id": "lxChR1Rk-umf"
      },
      "outputs": [],
      "source": [
        "import numpy as np\n",
        "import pandas as pd\n",
        "import tensorflow as tf\n",
        "import keras"
      ]
    },
    {
      "cell_type": "code",
      "execution_count": 2,
      "metadata": {
        "colab": {
          "base_uri": "https://localhost:8080/",
          "height": 34
        },
        "colab_type": "code",
        "id": "uBTqR3nacj0e",
        "outputId": "4c0bd183-e424-429a-9fba-ceb841c06888"
      },
      "outputs": [
        {
          "data": {
            "text/plain": [
              "'2.13.0'"
            ]
          },
          "execution_count": 2,
          "metadata": {},
          "output_type": "execute_result"
        }
      ],
      "source": [
        "tf.__version__"
      ]
    },
    {
      "cell_type": "markdown",
      "metadata": {
        "colab_type": "text",
        "id": "AG3FQEch-yuA"
      },
      "source": [
        "## Part 1 - Data Preprocessing"
      ]
    },
    {
      "cell_type": "markdown",
      "metadata": {
        "colab_type": "text",
        "id": "-4zq8Mza_D9O"
      },
      "source": [
        "### Importing the dataset"
      ]
    },
    {
      "cell_type": "code",
      "execution_count": 8,
      "metadata": {},
      "outputs": [],
      "source": [
        "dataset = pd.read_excel('Folds5x2_pp.xlsx')\n",
        "X = dataset.iloc[:,:-1].values  #features\n",
        "y = dataset.iloc[:,-1].values  #dependent variable"
      ]
    },
    {
      "cell_type": "markdown",
      "metadata": {
        "colab_type": "text",
        "id": "VC6omXel_Up0"
      },
      "source": [
        "### Splitting the dataset into the Training set and Test set"
      ]
    },
    {
      "cell_type": "code",
      "execution_count": 11,
      "metadata": {},
      "outputs": [],
      "source": [
        "from sklearn.model_selection import train_test_split\n",
        "X_train, X_test, y_train, y_test = train_test_split(X, y, test_size = 0.2, random_state = 1)"
      ]
    },
    {
      "cell_type": "code",
      "execution_count": 12,
      "metadata": {},
      "outputs": [
        {
          "name": "stdout",
          "output_type": "stream",
          "text": [
            "[[  14.96   41.76 1024.07   73.17]\n",
            " [  25.18   62.96 1020.04   59.08]\n",
            " [   5.11   39.4  1012.16   92.14]\n",
            " ...\n",
            " [  31.32   74.33 1012.92   36.48]\n",
            " [  24.48   69.45 1013.86   62.39]\n",
            " [  21.6    62.52 1017.23   67.87]]\n",
            "[463.26 444.37 488.56 ... 429.57 435.74 453.28]\n"
          ]
        }
      ],
      "source": [
        "print(X)\n",
        "print(y)"
      ]
    },
    {
      "cell_type": "markdown",
      "metadata": {},
      "source": [
        "###  Feature Scaling"
      ]
    },
    {
      "cell_type": "code",
      "execution_count": null,
      "metadata": {},
      "outputs": [],
      "source": [
        "from sklearn.preprocessing import StandardScaler\n",
        "sc = StandardScaler()\n",
        "X_train = sc.fit_transform(X_train)\n",
        "X_test = sc.transform(X_test)"
      ]
    },
    {
      "cell_type": "markdown",
      "metadata": {
        "colab_type": "text",
        "id": "_mSLlAT9_eyI"
      },
      "source": [
        "## Part 2 - Building the ANN"
      ]
    },
    {
      "cell_type": "markdown",
      "metadata": {
        "colab_type": "text",
        "id": "CsBULd_f_wLY"
      },
      "source": [
        "### Initializing the ANN"
      ]
    },
    {
      "cell_type": "code",
      "execution_count": 18,
      "metadata": {},
      "outputs": [],
      "source": [
        "ann = tf.keras.models.Sequential()  #o Sequencial cria uma ann inicializada como uma sequencia de layers"
      ]
    },
    {
      "cell_type": "markdown",
      "metadata": {
        "colab_type": "text",
        "id": "iitAFJS_ABUn"
      },
      "source": [
        "### Adding the input layer and the first hidden layer"
      ]
    },
    {
      "cell_type": "code",
      "execution_count": 20,
      "metadata": {},
      "outputs": [],
      "source": [
        "ann.add(tf.keras.layers.Dense(units = 6, activation = 'relu'))   #units são os hidden neurons"
      ]
    },
    {
      "cell_type": "markdown",
      "metadata": {
        "colab_type": "text",
        "id": "-lb4kK_wAKbs"
      },
      "source": [
        "### Adding the second hidden layer"
      ]
    },
    {
      "cell_type": "code",
      "execution_count": 22,
      "metadata": {},
      "outputs": [],
      "source": [
        "ann.add(tf.keras.layers.Dense(units =6 , activation = 'relu'))"
      ]
    },
    {
      "cell_type": "markdown",
      "metadata": {
        "colab_type": "text",
        "id": "jwMOmKb3AdBY"
      },
      "source": [
        "### Adding the output layer"
      ]
    },
    {
      "cell_type": "code",
      "execution_count": 23,
      "metadata": {},
      "outputs": [],
      "source": [
        "ann.add(tf.keras.layers.Dense(units = 1)) #activation is None como default, e usamos esta pois estamos perante uma regressão que os valores são contínuos\n",
        "#se fosse um valor binário usavamos a ativação sigmoid"
      ]
    },
    {
      "cell_type": "markdown",
      "metadata": {
        "colab_type": "text",
        "id": "fq7e4fF6A1yy"
      },
      "source": [
        "## Part 3 - Training the ANN"
      ]
    },
    {
      "cell_type": "markdown",
      "metadata": {
        "colab_type": "text",
        "id": "qDeylAs2An25"
      },
      "source": [
        "### Compiling the ANN"
      ]
    },
    {
      "cell_type": "code",
      "execution_count": 35,
      "metadata": {},
      "outputs": [],
      "source": [
        "ann.compile(optimizer = 'adam', loss = 'mean_squared_error', metrics = ['accuracy'])\n",
        "#na regressão a loss é sempre mean_squared_error, a soma dos quadrados"
      ]
    },
    {
      "cell_type": "markdown",
      "metadata": {
        "colab_type": "text",
        "id": "YjVuiybYOo7r"
      },
      "source": [
        "### Training the ANN model on the Training set"
      ]
    },
    {
      "cell_type": "code",
      "execution_count": 36,
      "metadata": {},
      "outputs": [
        {
          "name": "stdout",
          "output_type": "stream",
          "text": [
            "Epoch 1/100\n",
            "240/240 [==============================] - 1s 2ms/step - loss: 27.0872 - accuracy: 0.0000e+00\n",
            "Epoch 2/100\n",
            "240/240 [==============================] - 0s 2ms/step - loss: 26.9161 - accuracy: 0.0000e+00\n",
            "Epoch 3/100\n",
            "240/240 [==============================] - 0s 2ms/step - loss: 26.5766 - accuracy: 0.0000e+00\n",
            "Epoch 4/100\n",
            "240/240 [==============================] - 0s 2ms/step - loss: 26.9028 - accuracy: 0.0000e+00\n",
            "Epoch 5/100\n",
            "240/240 [==============================] - 0s 2ms/step - loss: 27.6577 - accuracy: 0.0000e+00\n",
            "Epoch 6/100\n",
            "240/240 [==============================] - 0s 2ms/step - loss: 26.6800 - accuracy: 0.0000e+00\n",
            "Epoch 7/100\n",
            "240/240 [==============================] - 0s 2ms/step - loss: 27.3857 - accuracy: 0.0000e+00\n",
            "Epoch 8/100\n",
            "240/240 [==============================] - 0s 2ms/step - loss: 27.1305 - accuracy: 0.0000e+00\n",
            "Epoch 9/100\n",
            "240/240 [==============================] - 0s 2ms/step - loss: 27.3105 - accuracy: 0.0000e+00\n",
            "Epoch 10/100\n",
            "240/240 [==============================] - 0s 2ms/step - loss: 27.0029 - accuracy: 0.0000e+00\n",
            "Epoch 11/100\n",
            "240/240 [==============================] - 0s 2ms/step - loss: 26.4534 - accuracy: 0.0000e+00\n",
            "Epoch 12/100\n",
            "240/240 [==============================] - 0s 2ms/step - loss: 27.1237 - accuracy: 0.0000e+00\n",
            "Epoch 13/100\n",
            "240/240 [==============================] - 0s 2ms/step - loss: 26.7291 - accuracy: 0.0000e+00\n",
            "Epoch 14/100\n",
            "240/240 [==============================] - 0s 2ms/step - loss: 26.5348 - accuracy: 0.0000e+00\n",
            "Epoch 15/100\n",
            "240/240 [==============================] - 0s 2ms/step - loss: 26.7136 - accuracy: 0.0000e+00\n",
            "Epoch 16/100\n",
            "240/240 [==============================] - 0s 2ms/step - loss: 26.5038 - accuracy: 0.0000e+00\n",
            "Epoch 17/100\n",
            "240/240 [==============================] - 0s 2ms/step - loss: 27.6912 - accuracy: 0.0000e+00\n",
            "Epoch 18/100\n",
            "240/240 [==============================] - 0s 2ms/step - loss: 26.4019 - accuracy: 0.0000e+00\n",
            "Epoch 19/100\n",
            "240/240 [==============================] - 0s 2ms/step - loss: 26.9222 - accuracy: 0.0000e+00\n",
            "Epoch 20/100\n",
            "240/240 [==============================] - 0s 2ms/step - loss: 27.0125 - accuracy: 0.0000e+00\n",
            "Epoch 21/100\n",
            "240/240 [==============================] - 0s 2ms/step - loss: 26.8080 - accuracy: 0.0000e+00\n",
            "Epoch 22/100\n",
            "240/240 [==============================] - 0s 2ms/step - loss: 27.0654 - accuracy: 0.0000e+00\n",
            "Epoch 23/100\n",
            "240/240 [==============================] - 0s 2ms/step - loss: 26.6232 - accuracy: 0.0000e+00\n",
            "Epoch 24/100\n",
            "240/240 [==============================] - 0s 2ms/step - loss: 27.4376 - accuracy: 0.0000e+00\n",
            "Epoch 25/100\n",
            "240/240 [==============================] - 0s 2ms/step - loss: 26.7562 - accuracy: 0.0000e+00\n",
            "Epoch 26/100\n",
            "240/240 [==============================] - 0s 2ms/step - loss: 26.8316 - accuracy: 0.0000e+00\n",
            "Epoch 27/100\n",
            "240/240 [==============================] - 1s 2ms/step - loss: 26.4403 - accuracy: 0.0000e+00\n",
            "Epoch 28/100\n",
            "240/240 [==============================] - 0s 2ms/step - loss: 26.5717 - accuracy: 0.0000e+00\n",
            "Epoch 29/100\n",
            "240/240 [==============================] - 0s 2ms/step - loss: 26.7498 - accuracy: 0.0000e+00\n",
            "Epoch 30/100\n",
            "240/240 [==============================] - 0s 2ms/step - loss: 26.6962 - accuracy: 0.0000e+00\n",
            "Epoch 31/100\n",
            "240/240 [==============================] - 0s 2ms/step - loss: 26.9313 - accuracy: 0.0000e+00\n",
            "Epoch 32/100\n",
            "240/240 [==============================] - 1s 3ms/step - loss: 26.6813 - accuracy: 0.0000e+00\n",
            "Epoch 33/100\n",
            "240/240 [==============================] - 0s 2ms/step - loss: 27.0669 - accuracy: 0.0000e+00\n",
            "Epoch 34/100\n",
            "240/240 [==============================] - 0s 2ms/step - loss: 27.0911 - accuracy: 0.0000e+00\n",
            "Epoch 35/100\n",
            "240/240 [==============================] - 0s 2ms/step - loss: 26.3683 - accuracy: 0.0000e+00\n",
            "Epoch 36/100\n",
            "240/240 [==============================] - 0s 1ms/step - loss: 26.7404 - accuracy: 0.0000e+00\n",
            "Epoch 37/100\n",
            "240/240 [==============================] - 0s 1ms/step - loss: 26.6815 - accuracy: 0.0000e+00\n",
            "Epoch 38/100\n",
            "240/240 [==============================] - 0s 1ms/step - loss: 27.1616 - accuracy: 0.0000e+00\n",
            "Epoch 39/100\n",
            "240/240 [==============================] - 0s 2ms/step - loss: 26.5705 - accuracy: 0.0000e+00\n",
            "Epoch 40/100\n",
            "240/240 [==============================] - 0s 2ms/step - loss: 26.9022 - accuracy: 0.0000e+00\n",
            "Epoch 41/100\n",
            "240/240 [==============================] - 0s 2ms/step - loss: 27.3967 - accuracy: 0.0000e+00\n",
            "Epoch 42/100\n",
            "240/240 [==============================] - 0s 2ms/step - loss: 26.6667 - accuracy: 0.0000e+00\n",
            "Epoch 43/100\n",
            "240/240 [==============================] - 0s 2ms/step - loss: 26.3939 - accuracy: 0.0000e+00\n",
            "Epoch 44/100\n",
            "240/240 [==============================] - 0s 2ms/step - loss: 27.1378 - accuracy: 0.0000e+00\n",
            "Epoch 45/100\n",
            "240/240 [==============================] - 0s 2ms/step - loss: 27.3602 - accuracy: 0.0000e+00\n",
            "Epoch 46/100\n",
            "240/240 [==============================] - 0s 2ms/step - loss: 26.7364 - accuracy: 0.0000e+00\n",
            "Epoch 47/100\n",
            "240/240 [==============================] - 0s 2ms/step - loss: 26.3286 - accuracy: 0.0000e+00\n",
            "Epoch 48/100\n",
            "240/240 [==============================] - 0s 2ms/step - loss: 26.7136 - accuracy: 0.0000e+00\n",
            "Epoch 49/100\n",
            "240/240 [==============================] - 0s 2ms/step - loss: 27.3135 - accuracy: 0.0000e+00\n",
            "Epoch 50/100\n",
            "240/240 [==============================] - 0s 2ms/step - loss: 26.7306 - accuracy: 0.0000e+00\n",
            "Epoch 51/100\n",
            "240/240 [==============================] - 0s 2ms/step - loss: 26.4500 - accuracy: 0.0000e+00\n",
            "Epoch 52/100\n",
            "240/240 [==============================] - 0s 2ms/step - loss: 26.6366 - accuracy: 0.0000e+00\n",
            "Epoch 53/100\n",
            "240/240 [==============================] - 0s 2ms/step - loss: 26.7534 - accuracy: 0.0000e+00\n",
            "Epoch 54/100\n",
            "240/240 [==============================] - 0s 2ms/step - loss: 27.4122 - accuracy: 0.0000e+00\n",
            "Epoch 55/100\n",
            "240/240 [==============================] - 0s 2ms/step - loss: 26.6120 - accuracy: 0.0000e+00\n",
            "Epoch 56/100\n",
            "240/240 [==============================] - 0s 2ms/step - loss: 26.5409 - accuracy: 0.0000e+00\n",
            "Epoch 57/100\n",
            "240/240 [==============================] - 0s 2ms/step - loss: 26.4432 - accuracy: 0.0000e+00\n",
            "Epoch 58/100\n",
            "240/240 [==============================] - 0s 2ms/step - loss: 26.6968 - accuracy: 0.0000e+00\n",
            "Epoch 59/100\n",
            "240/240 [==============================] - 0s 2ms/step - loss: 26.4379 - accuracy: 0.0000e+00\n",
            "Epoch 60/100\n",
            "240/240 [==============================] - 1s 2ms/step - loss: 26.3491 - accuracy: 0.0000e+00\n",
            "Epoch 61/100\n",
            "240/240 [==============================] - 1s 2ms/step - loss: 27.2497 - accuracy: 0.0000e+00\n",
            "Epoch 62/100\n",
            "240/240 [==============================] - 0s 2ms/step - loss: 27.8748 - accuracy: 0.0000e+00\n",
            "Epoch 63/100\n",
            "240/240 [==============================] - 0s 2ms/step - loss: 26.5123 - accuracy: 0.0000e+00\n",
            "Epoch 64/100\n",
            "240/240 [==============================] - 0s 2ms/step - loss: 26.8198 - accuracy: 0.0000e+00\n",
            "Epoch 65/100\n",
            "240/240 [==============================] - 0s 2ms/step - loss: 27.0341 - accuracy: 0.0000e+00\n",
            "Epoch 66/100\n",
            "240/240 [==============================] - 0s 2ms/step - loss: 26.8401 - accuracy: 0.0000e+00\n",
            "Epoch 67/100\n",
            "240/240 [==============================] - 0s 2ms/step - loss: 26.5857 - accuracy: 0.0000e+00\n",
            "Epoch 68/100\n",
            "240/240 [==============================] - 0s 2ms/step - loss: 26.2851 - accuracy: 0.0000e+00\n",
            "Epoch 69/100\n",
            "240/240 [==============================] - 0s 2ms/step - loss: 27.0190 - accuracy: 0.0000e+00\n",
            "Epoch 70/100\n",
            "240/240 [==============================] - 0s 2ms/step - loss: 26.6536 - accuracy: 0.0000e+00\n",
            "Epoch 71/100\n",
            "240/240 [==============================] - 0s 2ms/step - loss: 26.9196 - accuracy: 0.0000e+00\n",
            "Epoch 72/100\n",
            "240/240 [==============================] - 0s 2ms/step - loss: 26.7121 - accuracy: 0.0000e+00\n",
            "Epoch 73/100\n",
            "240/240 [==============================] - 0s 2ms/step - loss: 26.7485 - accuracy: 0.0000e+00\n",
            "Epoch 74/100\n",
            "240/240 [==============================] - 0s 2ms/step - loss: 27.1709 - accuracy: 0.0000e+00\n",
            "Epoch 75/100\n",
            "240/240 [==============================] - 0s 2ms/step - loss: 26.3370 - accuracy: 0.0000e+00\n",
            "Epoch 76/100\n",
            "240/240 [==============================] - 0s 2ms/step - loss: 26.4214 - accuracy: 0.0000e+00\n",
            "Epoch 77/100\n",
            "240/240 [==============================] - 0s 2ms/step - loss: 26.8324 - accuracy: 0.0000e+00\n",
            "Epoch 78/100\n",
            "240/240 [==============================] - 1s 2ms/step - loss: 26.9647 - accuracy: 0.0000e+00\n",
            "Epoch 79/100\n",
            "240/240 [==============================] - 1s 2ms/step - loss: 26.8815 - accuracy: 0.0000e+00\n",
            "Epoch 80/100\n",
            "240/240 [==============================] - 0s 2ms/step - loss: 27.7045 - accuracy: 0.0000e+00\n",
            "Epoch 81/100\n",
            "240/240 [==============================] - 0s 2ms/step - loss: 27.2750 - accuracy: 0.0000e+00\n",
            "Epoch 82/100\n",
            "240/240 [==============================] - 0s 1ms/step - loss: 26.7486 - accuracy: 0.0000e+00\n",
            "Epoch 83/100\n",
            "240/240 [==============================] - 0s 2ms/step - loss: 26.5166 - accuracy: 0.0000e+00\n",
            "Epoch 84/100\n",
            "240/240 [==============================] - 0s 2ms/step - loss: 27.0506 - accuracy: 0.0000e+00\n",
            "Epoch 85/100\n",
            "240/240 [==============================] - 0s 2ms/step - loss: 27.0835 - accuracy: 0.0000e+00\n",
            "Epoch 86/100\n",
            "240/240 [==============================] - 0s 2ms/step - loss: 26.9432 - accuracy: 0.0000e+00\n",
            "Epoch 87/100\n",
            "240/240 [==============================] - 0s 2ms/step - loss: 26.7090 - accuracy: 0.0000e+00\n",
            "Epoch 88/100\n",
            "240/240 [==============================] - 1s 2ms/step - loss: 27.6442 - accuracy: 0.0000e+00\n",
            "Epoch 89/100\n",
            "240/240 [==============================] - 0s 2ms/step - loss: 26.6710 - accuracy: 0.0000e+00\n",
            "Epoch 90/100\n",
            "240/240 [==============================] - 0s 2ms/step - loss: 26.3152 - accuracy: 0.0000e+00\n",
            "Epoch 91/100\n",
            "240/240 [==============================] - 0s 2ms/step - loss: 26.8729 - accuracy: 0.0000e+00\n",
            "Epoch 92/100\n",
            "240/240 [==============================] - 0s 2ms/step - loss: 26.9092 - accuracy: 0.0000e+00\n",
            "Epoch 93/100\n",
            "240/240 [==============================] - 0s 2ms/step - loss: 26.5536 - accuracy: 0.0000e+00\n",
            "Epoch 94/100\n",
            "240/240 [==============================] - 0s 2ms/step - loss: 26.5796 - accuracy: 0.0000e+00\n",
            "Epoch 95/100\n",
            "240/240 [==============================] - 0s 2ms/step - loss: 26.6178 - accuracy: 0.0000e+00\n",
            "Epoch 96/100\n",
            "240/240 [==============================] - 0s 2ms/step - loss: 26.8453 - accuracy: 0.0000e+00\n",
            "Epoch 97/100\n",
            "240/240 [==============================] - 1s 2ms/step - loss: 27.4753 - accuracy: 0.0000e+00\n",
            "Epoch 98/100\n",
            "240/240 [==============================] - 0s 2ms/step - loss: 26.8140 - accuracy: 0.0000e+00\n",
            "Epoch 99/100\n",
            "240/240 [==============================] - 0s 2ms/step - loss: 27.1030 - accuracy: 0.0000e+00\n",
            "Epoch 100/100\n",
            "240/240 [==============================] - 0s 2ms/step - loss: 26.5400 - accuracy: 0.0000e+00\n"
          ]
        },
        {
          "data": {
            "text/plain": [
              "<keras.src.callbacks.History at 0x244ea6f7490>"
            ]
          },
          "execution_count": 36,
          "metadata": {},
          "output_type": "execute_result"
        }
      ],
      "source": [
        "ann.fit(X_train, y_train, batch_size = 32, epochs = 100)"
      ]
    },
    {
      "cell_type": "markdown",
      "metadata": {
        "colab_type": "text",
        "id": "0H0zKKNEBLD5"
      },
      "source": [
        "### Predicting the results of the Test set"
      ]
    },
    {
      "cell_type": "code",
      "execution_count": 42,
      "metadata": {},
      "outputs": [
        {
          "name": "stdout",
          "output_type": "stream",
          "text": [
            "60/60 [==============================] - 0s 2ms/step\n",
            "[[455.2  458.96]\n",
            " [464.23 463.29]\n",
            " [439.6  435.27]\n",
            " ...\n",
            " [479.22 476.22]\n",
            " [425.34 440.29]\n",
            " [466.56 467.92]]\n"
          ]
        }
      ],
      "source": [
        "y_pred = ann.predict(X_test)\n",
        "np.set_printoptions(precision=2)  #colocar apenas duas casas decimais\n",
        "print(np.concatenate((y_pred.reshape(len(y_pred), 1), y_test.reshape(len(y_test), 1)),1 )) #colocar va vertical o y_test"
      ]
    }
  ],
  "metadata": {
    "colab": {
      "collapsed_sections": [],
      "name": "Artificial Neural Network",
      "provenance": [],
      "toc_visible": true
    },
    "kernelspec": {
      "display_name": "Python 3",
      "name": "python3"
    },
    "language_info": {
      "codemirror_mode": {
        "name": "ipython",
        "version": 3
      },
      "file_extension": ".py",
      "mimetype": "text/x-python",
      "name": "python",
      "nbconvert_exporter": "python",
      "pygments_lexer": "ipython3",
      "version": "3.11.4"
    }
  },
  "nbformat": 4,
  "nbformat_minor": 0
}
