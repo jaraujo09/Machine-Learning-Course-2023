{
  "cells": [
    {
      "cell_type": "markdown",
      "metadata": {
        "colab_type": "text",
        "id": "3DR-eO17geWu"
      },
      "source": [
        "# Convolutional Neural Network"
      ]
    },
    {
      "cell_type": "markdown",
      "metadata": {
        "colab_type": "text",
        "id": "EMefrVPCg-60"
      },
      "source": [
        "### Importing the libraries"
      ]
    },
    {
      "cell_type": "code",
      "execution_count": 1,
      "metadata": {
        "colab": {},
        "colab_type": "code",
        "id": "sCV30xyVhFbE"
      },
      "outputs": [],
      "source": [
        "import tensorflow as tf\n",
        "from keras.preprocessing.image import ImageDataGenerator"
      ]
    },
    {
      "cell_type": "code",
      "execution_count": 2,
      "metadata": {
        "colab": {},
        "colab_type": "code",
        "id": "FIleuCAjoFD8"
      },
      "outputs": [
        {
          "data": {
            "text/plain": [
              "'2.13.0'"
            ]
          },
          "execution_count": 2,
          "metadata": {},
          "output_type": "execute_result"
        }
      ],
      "source": [
        "tf.__version__"
      ]
    },
    {
      "cell_type": "markdown",
      "metadata": {
        "colab_type": "text",
        "id": "oxQxCBWyoGPE"
      },
      "source": [
        "## Part 1 - Data Preprocessing"
      ]
    },
    {
      "cell_type": "markdown",
      "metadata": {
        "colab_type": "text",
        "id": "MvE-heJNo3GG"
      },
      "source": [
        "### Preprocessing the Training set"
      ]
    },
    {
      "cell_type": "markdown",
      "metadata": {},
      "source": [
        "ImageDataGenerator aplica as transformações"
      ]
    },
    {
      "cell_type": "code",
      "execution_count": 3,
      "metadata": {},
      "outputs": [
        {
          "name": "stdout",
          "output_type": "stream",
          "text": [
            "Found 8000 images belonging to 2 classes.\n"
          ]
        }
      ],
      "source": [
        "train_datagen = ImageDataGenerator(\n",
        "    rescale = 1./255,  #feature scaling a cada pixel dividindo-o por 255\n",
        "    shear_range = 0.2, #features para prevenir o overfitting\n",
        "    zoom_range = 0.2,\n",
        "    horizontal_flip = True)\n",
        "\n",
        "training_set = train_datagen.flow_from_directory(\n",
        "    'dataset/training_set',\n",
        "    target_size = (64, 64),\n",
        "    batch_size = 32, #quantas imagens em cada bacth, 32 é o default\n",
        "    class_mode = 'binary') #ou categorical se fossem mais do que 2 escolhas (além de cat/dog))"
      ]
    },
    {
      "cell_type": "markdown",
      "metadata": {
        "colab_type": "text",
        "id": "mrCMmGw9pHys"
      },
      "source": [
        "### Preprocessing the Test set"
      ]
    },
    {
      "cell_type": "code",
      "execution_count": 4,
      "metadata": {},
      "outputs": [
        {
          "name": "stdout",
          "output_type": "stream",
          "text": [
            "Found 2000 images belonging to 2 classes.\n"
          ]
        }
      ],
      "source": [
        "test_datagen = ImageDataGenerator(rescale=(1./255)) #não usamos os outros parametros porque não queremos mexer neles para evitar information leakage do test set\n",
        "\n",
        "test_set = test_datagen.flow_from_directory(\n",
        "    'dataset/test_set',\n",
        "    target_size = (64, 64),\n",
        "    batch_size = 32, #quantas imagens em cada bacth, 32 é o default\n",
        "    class_mode = 'binary')"
      ]
    },
    {
      "cell_type": "markdown",
      "metadata": {
        "colab_type": "text",
        "id": "af8O4l90gk7B"
      },
      "source": [
        "## Part 2 - Building the CNN"
      ]
    },
    {
      "cell_type": "markdown",
      "metadata": {
        "colab_type": "text",
        "id": "ces1gXY2lmoX"
      },
      "source": [
        "### Initialising the CNN"
      ]
    },
    {
      "cell_type": "code",
      "execution_count": 5,
      "metadata": {},
      "outputs": [],
      "source": [
        "cnn = tf.keras.models.Sequential() "
      ]
    },
    {
      "cell_type": "markdown",
      "metadata": {
        "colab_type": "text",
        "id": "u5YJj_XMl5LF"
      },
      "source": [
        "### Step 1 - Convolution"
      ]
    },
    {
      "cell_type": "code",
      "execution_count": 6,
      "metadata": {},
      "outputs": [],
      "source": [
        "cnn.add(tf.keras.layers.Conv2D(filters = 32, kernel_size = 3, activation = 'relu', input_shape = [64,64,3]))  #se tivermos a trabalhar com cores, o terceiro elemento será 3 (RGB), se for a pretor e braco seria 1"
      ]
    },
    {
      "cell_type": "markdown",
      "metadata": {
        "colab_type": "text",
        "id": "tf87FpvxmNOJ"
      },
      "source": [
        "### Step 2 - Pooling"
      ]
    },
    {
      "cell_type": "code",
      "execution_count": 7,
      "metadata": {},
      "outputs": [],
      "source": [
        "cnn.add(tf.keras.layers.MaxPool2D(pool_size = 2, strides =2))  #pool_size =tamanho do frame de X pixeis"
      ]
    },
    {
      "cell_type": "markdown",
      "metadata": {
        "colab_type": "text",
        "id": "xaTOgD8rm4mU"
      },
      "source": [
        "### Adding a second convolutional layer"
      ]
    },
    {
      "cell_type": "code",
      "execution_count": 8,
      "metadata": {},
      "outputs": [],
      "source": [
        "cnn.add(tf.keras.layers.Conv2D(filters = 32, kernel_size = 3, activation = 'relu'))  #removemos o input_layer na segunda layer\n",
        "cnn.add(tf.keras.layers.MaxPool2D(pool_size = 2, strides =2))  "
      ]
    },
    {
      "cell_type": "markdown",
      "metadata": {
        "colab_type": "text",
        "id": "tmiEuvTunKfk"
      },
      "source": [
        "### Step 3 - Flattening"
      ]
    },
    {
      "cell_type": "code",
      "execution_count": 9,
      "metadata": {},
      "outputs": [],
      "source": [
        "#flattening a um vetor unidimensional\n",
        "cnn.add(tf.keras.layers.Flatten())"
      ]
    },
    {
      "cell_type": "markdown",
      "metadata": {
        "colab_type": "text",
        "id": "dAoSECOm203v"
      },
      "source": [
        "### Step 4 - Full Connection"
      ]
    },
    {
      "cell_type": "code",
      "execution_count": 10,
      "metadata": {},
      "outputs": [],
      "source": [
        "cnn.add(tf.keras.layers.Dense(units = 128, activation = 'relu'))"
      ]
    },
    {
      "cell_type": "markdown",
      "metadata": {
        "colab_type": "text",
        "id": "yTldFvbX28Na"
      },
      "source": [
        "### Step 5 - Output Layer"
      ]
    },
    {
      "cell_type": "code",
      "execution_count": 11,
      "metadata": {},
      "outputs": [],
      "source": [
        "cnn.add(tf.keras.layers.Dense(units = 1, activation = 'sigmoid'))"
      ]
    },
    {
      "cell_type": "markdown",
      "metadata": {
        "colab_type": "text",
        "id": "D6XkI90snSDl"
      },
      "source": [
        "## Part 3 - Training the CNN"
      ]
    },
    {
      "cell_type": "markdown",
      "metadata": {
        "colab_type": "text",
        "id": "vfrFQACEnc6i"
      },
      "source": [
        "### Compiling the CNN"
      ]
    },
    {
      "cell_type": "code",
      "execution_count": 12,
      "metadata": {},
      "outputs": [],
      "source": [
        "cnn.compile(optimizer = 'adam', loss = 'binary_crossentropy', metrics = ['accuracy'])"
      ]
    },
    {
      "cell_type": "markdown",
      "metadata": {
        "colab_type": "text",
        "id": "ehS-v3MIpX2h"
      },
      "source": [
        "### Training the CNN on the Training set and evaluating it on the Test set"
      ]
    },
    {
      "cell_type": "code",
      "execution_count": 13,
      "metadata": {},
      "outputs": [
        {
          "name": "stdout",
          "output_type": "stream",
          "text": [
            "Epoch 1/25\n",
            "250/250 [==============================] - 127s 505ms/step - loss: 0.6799 - accuracy: 0.5701 - val_loss: 0.6272 - val_accuracy: 0.6640\n",
            "Epoch 2/25\n",
            "250/250 [==============================] - 38s 153ms/step - loss: 0.6180 - accuracy: 0.6665 - val_loss: 0.5749 - val_accuracy: 0.7090\n",
            "Epoch 3/25\n",
            "250/250 [==============================] - 91s 363ms/step - loss: 0.5626 - accuracy: 0.7103 - val_loss: 0.5304 - val_accuracy: 0.7400\n",
            "Epoch 4/25\n",
            "250/250 [==============================] - 69s 275ms/step - loss: 0.5338 - accuracy: 0.7269 - val_loss: 0.5053 - val_accuracy: 0.7545\n",
            "Epoch 5/25\n",
            "250/250 [==============================] - 42s 167ms/step - loss: 0.4988 - accuracy: 0.7536 - val_loss: 0.5319 - val_accuracy: 0.7440\n",
            "Epoch 6/25\n",
            "250/250 [==============================] - 36s 145ms/step - loss: 0.4942 - accuracy: 0.7570 - val_loss: 0.5424 - val_accuracy: 0.7465\n",
            "Epoch 7/25\n",
            "250/250 [==============================] - 38s 152ms/step - loss: 0.4638 - accuracy: 0.7825 - val_loss: 0.4776 - val_accuracy: 0.7775\n",
            "Epoch 8/25\n",
            "250/250 [==============================] - 38s 152ms/step - loss: 0.4461 - accuracy: 0.7909 - val_loss: 0.4721 - val_accuracy: 0.7895\n",
            "Epoch 9/25\n",
            "250/250 [==============================] - 38s 154ms/step - loss: 0.4414 - accuracy: 0.7937 - val_loss: 0.4578 - val_accuracy: 0.7980\n",
            "Epoch 10/25\n",
            "250/250 [==============================] - 39s 155ms/step - loss: 0.4338 - accuracy: 0.7986 - val_loss: 0.4742 - val_accuracy: 0.7865\n",
            "Epoch 11/25\n",
            "250/250 [==============================] - 39s 156ms/step - loss: 0.4095 - accuracy: 0.8092 - val_loss: 0.4405 - val_accuracy: 0.7920\n",
            "Epoch 12/25\n",
            "250/250 [==============================] - 38s 150ms/step - loss: 0.4020 - accuracy: 0.8155 - val_loss: 0.4507 - val_accuracy: 0.8010\n",
            "Epoch 13/25\n",
            "250/250 [==============================] - 38s 153ms/step - loss: 0.3902 - accuracy: 0.8248 - val_loss: 0.4444 - val_accuracy: 0.7970\n",
            "Epoch 14/25\n",
            "250/250 [==============================] - 40s 159ms/step - loss: 0.3762 - accuracy: 0.8280 - val_loss: 0.4584 - val_accuracy: 0.8000\n",
            "Epoch 15/25\n",
            "250/250 [==============================] - 44s 176ms/step - loss: 0.3672 - accuracy: 0.8380 - val_loss: 0.5038 - val_accuracy: 0.7820\n",
            "Epoch 16/25\n",
            "250/250 [==============================] - 42s 169ms/step - loss: 0.3534 - accuracy: 0.8444 - val_loss: 0.4380 - val_accuracy: 0.8055\n",
            "Epoch 17/25\n",
            "250/250 [==============================] - 42s 168ms/step - loss: 0.3411 - accuracy: 0.8499 - val_loss: 0.4411 - val_accuracy: 0.8140\n",
            "Epoch 18/25\n",
            "250/250 [==============================] - 36s 145ms/step - loss: 0.3249 - accuracy: 0.8596 - val_loss: 0.4531 - val_accuracy: 0.8120\n",
            "Epoch 19/25\n",
            "250/250 [==============================] - 38s 152ms/step - loss: 0.3238 - accuracy: 0.8600 - val_loss: 0.4527 - val_accuracy: 0.7990\n",
            "Epoch 20/25\n",
            "250/250 [==============================] - 37s 147ms/step - loss: 0.3079 - accuracy: 0.8699 - val_loss: 0.5546 - val_accuracy: 0.7665\n",
            "Epoch 21/25\n",
            "250/250 [==============================] - 37s 146ms/step - loss: 0.2968 - accuracy: 0.8671 - val_loss: 0.4820 - val_accuracy: 0.8070\n",
            "Epoch 22/25\n",
            "250/250 [==============================] - 37s 147ms/step - loss: 0.2970 - accuracy: 0.8700 - val_loss: 0.4848 - val_accuracy: 0.7990\n",
            "Epoch 23/25\n",
            "250/250 [==============================] - 37s 147ms/step - loss: 0.2804 - accuracy: 0.8785 - val_loss: 0.4968 - val_accuracy: 0.7960\n",
            "Epoch 24/25\n",
            "250/250 [==============================] - 37s 147ms/step - loss: 0.2754 - accuracy: 0.8829 - val_loss: 0.5676 - val_accuracy: 0.7855\n",
            "Epoch 25/25\n",
            "250/250 [==============================] - 37s 147ms/step - loss: 0.2657 - accuracy: 0.8882 - val_loss: 0.4858 - val_accuracy: 0.7990\n"
          ]
        },
        {
          "data": {
            "text/plain": [
              "<keras.src.callbacks.History at 0x24f3051a2d0>"
            ]
          },
          "execution_count": 13,
          "metadata": {},
          "output_type": "execute_result"
        }
      ],
      "source": [
        "cnn.fit(x = training_set, validation_data = test_set, epochs = 25)"
      ]
    },
    {
      "cell_type": "markdown",
      "metadata": {
        "colab_type": "text",
        "id": "U3PZasO0006Z"
      },
      "source": [
        "## Part 4 - Making a single prediction"
      ]
    },
    {
      "cell_type": "code",
      "execution_count": 16,
      "metadata": {},
      "outputs": [
        {
          "name": "stdout",
          "output_type": "stream",
          "text": [
            "1/1 [==============================] - 0s 62ms/step\n",
            "[[1.]]\n",
            "dog\n"
          ]
        }
      ],
      "source": [
        "import numpy as np\n",
        "from keras.preprocessing import image\n",
        "\n",
        "test_image = image.load_img('dataset/single_prediction/cat_or_dog_1.jpg', target_size = (64,64))\n",
        "test_image = image.img_to_array(test_image)  #o método predict so aceita 2D array por isso que temos que fazer esta transformação\n",
        "test_image = np.expand_dims(test_image, axis = 0) #adição de uma fake dimension para os batches / primeira dimensão\n",
        "\n",
        "result = cnn.predict(test_image)\n",
        "print(result)\n",
        "\n",
        "#Encoding 0 or 1 to cat or dog\n",
        "training_set.class_indices\n",
        "if result[0][0] == 1: #acessar o batch e o seu unico elemento \n",
        "    prediction = 'dog'\n",
        "else:\n",
        "    prediction = 'cat' \n",
        "print(prediction)"
      ]
    },
    {
      "cell_type": "code",
      "execution_count": 20,
      "metadata": {},
      "outputs": [
        {
          "name": "stdout",
          "output_type": "stream",
          "text": [
            "1/1 [==============================] - 0s 26ms/step\n",
            "[[0.]]\n",
            "cat\n"
          ]
        }
      ],
      "source": [
        "import numpy as np\n",
        "from keras.preprocessing import image\n",
        "\n",
        "test_image = image.load_img('dataset/single_prediction/cat_or_dog_5.jpg', target_size = (64,64))\n",
        "test_image = image.img_to_array(test_image)  #o método predict so aceita 2D array por isso que temos que fazer esta transformação\n",
        "test_image = np.expand_dims(test_image, axis = 0) #adição de uma fake dimension para os batches / primeira dimensão\n",
        "\n",
        "result = cnn.predict(test_image)\n",
        "print(result)\n",
        "\n",
        "#Encoding 0 or 1 to cat or dog\n",
        "training_set.class_indices\n",
        "if result[0][0] == 1: #acessar o batch e o seu unico elemento \n",
        "    prediction = 'dog'\n",
        "else:\n",
        "    prediction = 'cat' \n",
        "print(prediction)"
      ]
    },
    {
      "cell_type": "markdown",
      "metadata": {},
      "source": [
        "## Prediction Images from the test set"
      ]
    },
    {
      "cell_type": "code",
      "execution_count": 18,
      "metadata": {},
      "outputs": [
        {
          "name": "stdout",
          "output_type": "stream",
          "text": [
            "1/1 [==============================] - 0s 35ms/step\n",
            "[[1.]]\n",
            "dog\n"
          ]
        }
      ],
      "source": [
        "import numpy as np\n",
        "from keras.preprocessing import image\n",
        "\n",
        "test_image = image.load_img('dataset/single_prediction/cat_or_dog_3.jpg', target_size = (64,64))\n",
        "test_image = image.img_to_array(test_image)  #o método predict so aceita 2D array por isso que temos que fazer esta transformação\n",
        "test_image = np.expand_dims(test_image, axis = 0) #adição de uma fake dimension para os batches / primeira dimensão\n",
        "\n",
        "result = cnn.predict(test_image)\n",
        "print(result)\n",
        "\n",
        "#Encoding 0 or 1 to cat or dog\n",
        "training_set.class_indices\n",
        "if result[0][0] == 1: #acessar o batch e o seu unico elemento \n",
        "    prediction = 'dog'\n",
        "else:\n",
        "    prediction = 'cat' \n",
        "print(prediction)"
      ]
    },
    {
      "cell_type": "code",
      "execution_count": 19,
      "metadata": {},
      "outputs": [
        {
          "name": "stdout",
          "output_type": "stream",
          "text": [
            "1/1 [==============================] - 0s 33ms/step\n",
            "[[0.]]\n",
            "cat\n"
          ]
        }
      ],
      "source": [
        "import numpy as np\n",
        "from keras.preprocessing import image\n",
        "\n",
        "test_image = image.load_img('dataset/single_prediction/cat_or_dog_4.jpg', target_size = (64,64))\n",
        "test_image = image.img_to_array(test_image)  #o método predict so aceita 2D array por isso que temos que fazer esta transformação\n",
        "test_image = np.expand_dims(test_image, axis = 0) #adição de uma fake dimension para os batches / primeira dimensão\n",
        "\n",
        "result = cnn.predict(test_image)\n",
        "print(result)\n",
        "\n",
        "#Encoding 0 or 1 to cat or dog\n",
        "training_set.class_indices\n",
        "if result[0][0] == 1: #acessar o batch e o seu unico elemento \n",
        "    prediction = 'dog'\n",
        "else:\n",
        "    prediction = 'cat' \n",
        "print(prediction)"
      ]
    }
  ],
  "metadata": {
    "colab": {
      "collapsed_sections": [],
      "name": "convolutional_neural_network.ipynb",
      "provenance": [],
      "toc_visible": true
    },
    "kernelspec": {
      "display_name": "Python 3",
      "name": "python3"
    },
    "language_info": {
      "codemirror_mode": {
        "name": "ipython",
        "version": 3
      },
      "file_extension": ".py",
      "mimetype": "text/x-python",
      "name": "python",
      "nbconvert_exporter": "python",
      "pygments_lexer": "ipython3",
      "version": "3.11.4"
    }
  },
  "nbformat": 4,
  "nbformat_minor": 0
}
